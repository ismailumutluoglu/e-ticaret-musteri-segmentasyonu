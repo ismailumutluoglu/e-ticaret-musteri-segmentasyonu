{
 "cells": [
  {
   "cell_type": "code",
   "execution_count": null,
   "id": "9108f2db",
   "metadata": {},
   "outputs": [],
   "source": [
    "# Day 1: E-Ticaret Veri Seti Keşfi\n",
    "# Tarih: 27 Temmuz 2025\n",
    "# Proje: Müşteri Segmentasyonu\n",
    "# Geliştirici: @ismailumutluoglu\n",
    "\n",
    "import pandas as pd\n",
    "import numpy as np\n",
    "import matplotlib.pyplot as plt\n",
    "import seaborn as sns\n",
    "import warnings \n",
    "warnings.filterwarnings(\"ignore\")\n",
    "\n",
    "plt.style.use('default') # Grafik stillerini varsayılan olarak ayarla\n",
    "plt.rcParams['figure.figsize'] = (12, 6) #grafik boyutu\n",
    "sns.set_palette(\"husl\") # renk paleti\n",
    "print(\"🚀 Kütüphaneler yüklendi!\")\n",
    "print(\"📅 Bugün:\", \"2025-07-27\")\n",
    "print(\"⏰ Başlangıç saati: 14:03 (UTC+3)\")"
   ]
  },
  {
   "cell_type": "code",
   "execution_count": null,
   "id": "56e5e1d3",
   "metadata": {},
   "outputs": [],
   "source": [
    "print(\"📊 Online Retail veri seti okunuyor...\")\n",
    "print(\"💾 Dosya boyutu: ~22.6 MB\")\n",
    "\n",
    "try:\n",
    "    df = pd.read_excel('../data/raw/Online Retail.xlsx')\n",
    "    print(\"✅ Veri başarıyla okundu!\")\n",
    "    print(f\"📏 Boyut: {df.shape[0]:,} satır x {df.shape[1]} kolon\")\n",
    "    print(f\"💾 Bellek kullanımı: {df.memory_usage(deep=True).sum() / 1024**2:.2f} MB\")\n",
    "except Exception as e:\n",
    "    print(f\"❌ Hata: {e}\")\n",
    "    print(\"🔍 Dosya yolu kontrol edilsin: ../data/raw/online_retail.xlsx\")\n"
   ]
  },
  {
   "cell_type": "code",
   "execution_count": null,
   "id": "67f4ba1c",
   "metadata": {},
   "outputs": [],
   "source": [
    "print(\"👀 İlk 5 satır:\")\n",
    "df.head()"
   ]
  },
  {
   "cell_type": "code",
   "execution_count": null,
   "id": "094f86aa",
   "metadata": {},
   "outputs": [],
   "source": [
    "print(\"\\n📋 Kolon isimleri ve tipleri:\")\n",
    "df.info()"
   ]
  },
  {
   "cell_type": "code",
   "execution_count": null,
   "id": "0c621be3",
   "metadata": {},
   "outputs": [],
   "source": [
    "print(\"📋 Veri Seti Kolonları:\")\n",
    "print(\"=\"*50)\n",
    "\n",
    "columns_info = {\n",
    "    'InvoiceNo': 'Fatura Numarası (Eşsiz işlem ID)',\n",
    "    'StockCode': 'Ürün Kodu', \n",
    "    'Description': 'Ürün Açıklaması',\n",
    "    'Quantity': 'Satış Miktarı',\n",
    "    'InvoiceDate': 'Satış Tarihi',\n",
    "    'UnitPrice': 'Birim Fiyat (£)',\n",
    "    'CustomerID': 'Müşteri ID',\n",
    "    'Country': 'Ülke'\n",
    "}\n",
    "for col, desc in columns_info.items():\n",
    "    if col in df.columns:\n",
    "        print(f\"• {col:12} → {desc}\")\n",
    "\n",
    "print(f\"\\n🎯 Bu {len(df.columns)} kolon ile müşteri segmentasyonu yapacağız!\")"
   ]
  },
  {
   "cell_type": "code",
   "execution_count": null,
   "id": "49406131",
   "metadata": {},
   "outputs": [],
   "source": [
    "print(\"\\n❓ Eksik Değer Analizi:\")\n",
    "print(\"=\"*30)\n",
    "missing_data = df.isnull().sum()\n",
    "missing_percent = (df.isnull().sum() / len(df)) * 100\n",
    "for col in df.columns:\n",
    "    if missing_data[col] > 0:\n",
    "        print(f\"• {col:12}: {missing_data[col]:,} eksik ({missing_percent[col]:.1f}%)\")\n",
    "    else:\n",
    "        print(f\"• {col:12}: ✅ Eksik yok\")"
   ]
  },
  {
   "cell_type": "code",
   "execution_count": null,
   "id": "a0d7a428",
   "metadata": {},
   "outputs": [],
   "source": [
    "print(\"\\n📊 Veri Seti Özeti:\")\n",
    "print(\"=\"*30)\n",
    "print(f\"• Toplam işlem sayısı: {len(df):,}\")\n",
    "print(f\"• Benzersiz müşteri sayısı: {df['CustomerID'].nunique():,}\")\n",
    "print(f\"• Benzersiz ürün sayısı: {df['StockCode'].nunique():,}\")\n",
    "print(f\"• Tarih aralığı: {df['InvoiceDate'].min()} → {df['InvoiceDate'].max()}\")\n",
    "print(f\"• Ülke sayısı: {df['Country'].nunique()}\")"
   ]
  },
  {
   "cell_type": "code",
   "execution_count": null,
   "id": "9cd7a9c8",
   "metadata": {},
   "outputs": [],
   "source": [
    "print(\"📊 Sayısal Kolonlar - Temel İstatistikler:\")\n",
    "print(\"=\"*50)\n",
    "display(df.describe())\n",
    "print(\"\\n🔍 İlginç Gözlemler:\")\n",
    "print(f\"• En yüksek satış miktarı: {df['Quantity'].max():,}\")\n",
    "print(f\"• En düşük satış miktarı: {df['Quantity'].min():,}\")\n",
    "print(f\"• En pahalı ürün: £{df['UnitPrice'].max():,.2f}\")\n",
    "print(f\"• Ortalama satış miktarı: {df['Quantity'].mean():.2f}\")\n",
    "print(f\"• Ortalama birim fiyat: £{df['UnitPrice'].mean():.2f}\")\n",
    "negative_qty = (df['Quantity'] < 0).sum()\n",
    "negative_price = (df['UnitPrice'] < 0).sum()\n",
    "print(f\"\\n⚠️  Negatif Quantity: {negative_qty:,} adet ({negative_qty/len(df)*100:.1f}%)\")\n",
    "print(f\"⚠️  Negatif UnitPrice: {negative_price:,} adet ({negative_price/len(df)*100:.1f}%)\")"
   ]
  },
  {
   "cell_type": "code",
   "execution_count": null,
   "id": "a7dcff08",
   "metadata": {},
   "outputs": [],
   "source": [
    "# Hızlı grafik örnekleri\n",
    "import matplotlib.pyplot as plt\n",
    "\n",
    "fig, axes = plt.subplots(2, 2, figsize=(15, 10))\n",
    "\n",
    "# 1. Ülke dağılımı (Top 10)\n",
    "top_countries = df['Country'].value_counts().head(10)\n",
    "axes[0,0].bar(range(len(top_countries)), top_countries.values)\n",
    "axes[0,0].set_title('Top 10 Ülke - İşlem Sayısı')\n",
    "axes[0,0].set_xticks(range(len(top_countries)))\n",
    "axes[0,0].set_xticklabels(top_countries.index, rotation=45)\n",
    "\n",
    "# 2. Quantity dağılımı (pozitif değerler)\n",
    "positive_qty = df[df['Quantity'] > 0]['Quantity']\n",
    "axes[0,1].hist(positive_qty, bins=50, edgecolor='black')\n",
    "axes[0,1].set_title('Satış Miktarı Dağılımı (Pozitif)')\n",
    "axes[0,1].set_xlabel('Miktar')\n",
    "\n",
    "# 3. Fiyat dağılımı\n",
    "positive_price = df[df['UnitPrice'] > 0]['UnitPrice']\n",
    "axes[1,0].hist(positive_price, bins=50, edgecolor='black')\n",
    "axes[1,0].set_title('Birim Fiyat Dağılımı')\n",
    "axes[1,0].set_xlabel('Fiyat (£)')\n",
    "\n",
    "# 4. Aylık trend\n",
    "df['YearMonth'] = df['InvoiceDate'].dt.to_period('M')\n",
    "monthly_sales = df.groupby('YearMonth').size()\n",
    "axes[1,1].plot(range(len(monthly_sales)), monthly_sales.values, marker='o')\n",
    "axes[1,1].set_title('Aylık İşlem Sayısı Trendi')\n",
    "axes[1,1].set_xlabel('Ay')\n",
    "\n",
    "plt.tight_layout()\n",
    "plt.show()\n",
    "\n",
    "print(\"📈 Grafikler oluşturuldu! İlk pattern'ları görebiliyor musun?\")"
   ]
  },
  {
   "cell_type": "code",
   "execution_count": null,
   "id": "8aceb21b",
   "metadata": {},
   "outputs": [],
   "source": [
    "# Day 1 - Final Özet\n",
    "print(\"🎉 DAY 1 TAMAMLANDI!\")\n",
    "print(\"=\"*40)\n",
    "print(f\"📅 Tarih: 2025-07-27\")\n",
    "print(f\"⏰ Süre: ~1 saat\")\n",
    "print(f\"📊 Veri: {len(df):,} satır analiz edildi\")\n",
    "\n",
    "print(\"\\n✅ Tamamlanan Görevler:\")\n",
    "print(\"• Veri seti başarıyla okundu\")\n",
    "print(\"• Temel veri yapısı anlaşıldı\")\n",
    "print(\"• Eksik değerler tespit edildi\")\n",
    "print(\"• İlk görselleştirmeler yapıldı\")\n",
    "print(\"• Veri kalitesi değerlendirildi\")\n",
    "\n",
    "print(\"\\n🔍 Önemli Bulgular:\")\n",
    "print(\"• UK müşterileri dominant\")\n",
    "print(\"• Negatif quantity değerleri var (iadeler)\")\n",
    "print(\"• 2010-2011 dönemi verisi\")\n",
    "print(\"• B2B e-ticaret karakteristikleri\")"
   ]
  },
  {
   "cell_type": "code",
   "execution_count": null,
   "id": "2723e3d7",
   "metadata": {},
   "outputs": [],
   "source": []
  }
 ],
 "metadata": {
  "kernelspec": {
   "display_name": "base",
   "language": "python",
   "name": "python3"
  },
  "language_info": {
   "codemirror_mode": {
    "name": "ipython",
    "version": 3
   },
   "file_extension": ".py",
   "mimetype": "text/x-python",
   "name": "python",
   "nbconvert_exporter": "python",
   "pygments_lexer": "ipython3",
   "version": "3.11.5"
  }
 },
 "nbformat": 4,
 "nbformat_minor": 5
}
